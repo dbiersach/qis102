{
 "cells": [
  {
   "cell_type": "code",
   "execution_count": null,
   "id": "1959ba3d-f0fb-412d-9d7b-8a0a71aa9318",
   "metadata": {},
   "outputs": [],
   "source": [
    "# wave_packet.ipynb\n",
    "\n",
    "# Cell 1\n",
    "\n",
    "import matplotlib.pyplot as plt\n",
    "import numpy as np\n",
    "from matplotlib.animation import FuncAnimation\n",
    "\n",
    "%matplotlib widget\n",
    "\n",
    "num_total_waves = 1\n",
    "\n",
    "\n",
    "def plot():\n",
    "    global xa, ya, cur_wave_num, wave_data, wave_packet\n",
    "\n",
    "    xa = np.linspace(-6 * np.pi, 6 * np.pi, 600)\n",
    "\n",
    "    wave_data = np.empty((num_total_waves * 2, 600))\n",
    "\n",
    "    for i in range(0, num_total_waves * 2):\n",
    "        f = 2 * (i / num_total_waves - 0.5)\n",
    "        wave_data[i] = np.cos(f * xa) ** 2\n",
    "\n",
    "    cur_wave_num = 1\n",
    "    ya = np.sum(wave_data[:cur_wave_num], axis=0) / (cur_wave_num)\n",
    "    (wave_packet,) = ax.plot(xa, ya, color=\"blue\")\n",
    "\n",
    "    ax.set_title(f\"Wave Packets = {cur_wave_num}\")\n",
    "    ax.set_xlabel(\"Location\")\n",
    "    ax.set_ylabel(\"Probability (Not Normalized)\")\n",
    "    ax.set_ylim(-0.1, 1.1)\n",
    "\n",
    "\n",
    "def anim_frame_counter():\n",
    "    global cur_wave_num\n",
    "    while cur_wave_num < num_total_waves:\n",
    "        cur_wave_num += 1\n",
    "        yield cur_wave_num\n",
    "\n",
    "\n",
    "def anim_draw_frame(n):\n",
    "    global ax, ya, wave_packet\n",
    "    ya = np.sum(wave_data[:cur_wave_num], axis=0) / (cur_wave_num)\n",
    "    wave_packet.set_data(xa, ya)\n",
    "    ax.set_title(f\"Wave Packets = {n}\")\n",
    "    return (wave_packet,)\n",
    "\n",
    "\n",
    "def plot_waves():\n",
    "    global ax, anim\n",
    "    plt.close(\"all\")\n",
    "    plt.figure(\" \")\n",
    "    ax = plt.axes()\n",
    "    plot()\n",
    "\n",
    "    anim = FuncAnimation(\n",
    "        ax.figure,\n",
    "        anim_draw_frame,\n",
    "        anim_frame_counter,\n",
    "        interval=25,\n",
    "        repeat=False,\n",
    "        cache_frame_data=False,\n",
    "    )\n",
    "\n",
    "    plt.show()\n",
    "\n",
    "\n",
    "plot_waves()"
   ]
  },
  {
   "cell_type": "code",
   "execution_count": null,
   "id": "c1f3ba09-5a3e-41ce-b9f9-46974ec2a03f",
   "metadata": {},
   "outputs": [],
   "source": [
    "# Cell 2\n",
    "num_total_waves = 3\n",
    "plot_waves()"
   ]
  },
  {
   "cell_type": "code",
   "execution_count": null,
   "id": "463d637f-8598-4a40-a929-45154928ed0b",
   "metadata": {},
   "outputs": [],
   "source": [
    "# Cell 3\n",
    "num_total_waves = 11\n",
    "plot_waves()"
   ]
  },
  {
   "cell_type": "code",
   "execution_count": null,
   "id": "5a3c409c-d0fc-4e00-bd77-7a18d1508f09",
   "metadata": {},
   "outputs": [],
   "source": [
    "# Cell 4\n",
    "num_total_waves = 600\n",
    "plot_waves()"
   ]
  }
 ],
 "metadata": {
  "kernelspec": {
   "display_name": "Python 3 (ipykernel)",
   "language": "python",
   "name": "python3"
  },
  "language_info": {
   "codemirror_mode": {
    "name": "ipython",
    "version": 3
   },
   "file_extension": ".py",
   "mimetype": "text/x-python",
   "name": "python",
   "nbconvert_exporter": "python",
   "pygments_lexer": "ipython3",
   "version": "3.12.3"
  },
  "vscode": {
   "interpreter": {
    "hash": "4431dc44d4f2686070e0fc53d953ad3cc7928e817d4e69983712ddc54c23870a"
   }
  }
 },
 "nbformat": 4,
 "nbformat_minor": 5
}
