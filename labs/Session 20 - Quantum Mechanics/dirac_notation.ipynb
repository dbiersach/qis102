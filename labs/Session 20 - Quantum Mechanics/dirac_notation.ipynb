{
 "cells": [
  {
   "cell_type": "code",
   "execution_count": null,
   "id": "a0890b85-eb8b-437a-b302-8872deb27909",
   "metadata": {
    "tags": []
   },
   "outputs": [],
   "source": [
    "# dirac_notation.ipynb\n",
    "\n",
    "# Cell 1 - Complex Amplitudes - Probability\n",
    "\n",
    "import numpy as np\n",
    "from IPython.core.display import Math\n",
    "from qis102_utils import as_latex\n",
    "\n",
    "psi = np.array([-3 - 1j, -2j, 1j, 2])\n",
    "norm_psi = np.linalg.norm(psi)\n",
    "c2 = abs(psi[2])\n",
    "\n",
    "display(as_latex(psi, prefix=r\"\\mathbf{\\lvert\\psi\\rangle}=\", column=True))\n",
    "display(\n",
    "    Math(rf\"\\textrm{{Probability of outcome 2 = {c2**2 / norm_psi**2 * 100:.4f}\\%}}\")\n",
    ")"
   ]
  },
  {
   "cell_type": "code",
   "execution_count": null,
   "id": "d3a57077-358b-4b88-9cc3-9228bb92bfee",
   "metadata": {
    "tags": []
   },
   "outputs": [],
   "source": [
    "# Cell 2 - Multiplying a ket by a scalar\n",
    "\n",
    "s = -2.3 - 11j\n",
    "s_psi = s * psi\n",
    "\n",
    "norm_s_psi = np.linalg.norm(s_psi)\n",
    "c = abs(s_psi[2])\n",
    "\n",
    "display(Math(rf\"\\large\\mathbf{{s=}}\\;{s}\"))\n",
    "display(as_latex(s_psi, prefix=r\"\\mathbf{(s)\\lvert\\psi\\rangle}=\", column=True))\n",
    "display(\n",
    "    Math(rf\"\\textrm{{Probability of outcome 2 = {c2**2 / norm_psi**2 * 100:.4f}\\%}}\")\n",
    ")"
   ]
  },
  {
   "cell_type": "code",
   "execution_count": null,
   "id": "24945b94-5e75-466d-a8c1-de3c462e067a",
   "metadata": {
    "tags": []
   },
   "outputs": [],
   "source": [
    "# Cell 3 - Normalizing a ket\n",
    "\n",
    "psi = np.array([2 - 3j, 1 + 2j])\n",
    "\n",
    "norm_psi = np.linalg.norm(psi)\n",
    "normed_psi = psi / norm_psi\n",
    "\n",
    "display(as_latex(psi, prefix=r\"\\mathbf{\\lvert\\psi\\rangle}=\", column=True))\n",
    "\n",
    "display(Math(rf\"\\mathbf{{\\|\\psi\\|}}=\\;{norm_psi:.4f}\"))\n",
    "\n",
    "display(\n",
    "    as_latex(\n",
    "        normed_psi, prefix=r\"\\mathbf{\\frac{\\lvert\\psi\\rangle}{\\|\\psi\\|}}=\", column=True\n",
    "    )\n",
    ")\n",
    "\n",
    "t1 = normed_psi * normed_psi.conj()\n",
    "\n",
    "display(\n",
    "    as_latex(\n",
    "        t1,\n",
    "        prefix=r\"\\mathbf{\\left[\\frac{\\lvert\\psi\\rangle}{\\|\\psi\\|}\\right]^2}=\",\n",
    "        column=True,\n",
    "    )\n",
    ")"
   ]
  },
  {
   "cell_type": "code",
   "execution_count": null,
   "id": "835ab5f8-5431-470d-be1c-07c1bee4515b",
   "metadata": {
    "tags": []
   },
   "outputs": [],
   "source": [
    "# Cell 4 - Transition amplitude\n",
    "\n",
    "# Start State\n",
    "psi = np.array([1, -1j])\n",
    "\n",
    "# End State\n",
    "phi = np.array([1j, 1])\n",
    "\n",
    "# Create Dirac \"bra-ket\"\n",
    "bra_phi = phi.conj().T\n",
    "bracket_phi_psi = np.dot(bra_phi, psi)\n",
    "\n",
    "# Calculate transition amplitude\n",
    "norm_psi = np.linalg.norm(psi)\n",
    "norm_phi = np.linalg.norm(phi)\n",
    "amp = bracket_phi_psi / (norm_psi * norm_phi)\n",
    "\n",
    "display(\n",
    "    as_latex(\n",
    "        psi, prefix=r\"\\text{Start state:}\\;\\mathbf{\\lvert\\psi\\rangle}=\", column=True\n",
    "    )\n",
    ")\n",
    "display(\n",
    "    as_latex(phi, prefix=r\"\\text{End state:}\\;\\mathbf{\\lvert\\phi\\rangle}=\", column=True)\n",
    ")\n",
    "\n",
    "display(Math(rf\"\\mathbf{{\\langle\\phi\\lvert\\psi\\rangle}}=\\;{bracket_phi_psi:.4f}\"))\n",
    "\n",
    "display(\n",
    "    Math(\n",
    "        (\n",
    "            r\"\\mathbf{\\frac{\\langle\\phi\\lvert\\psi\\rangle}{\\lvert\\lvert\\phi\\rangle\\lvert\\;\\lvert\\lvert\\psi\\rangle\\lvert}=\\;}\"\n",
    "            f\"{amp:.4f}\"\n",
    "        )\n",
    "    )\n",
    ")"
   ]
  }
 ],
 "metadata": {
  "kernelspec": {
   "display_name": "Python 3 (ipykernel)",
   "language": "python",
   "name": "python3"
  },
  "language_info": {
   "codemirror_mode": {
    "name": "ipython",
    "version": 3
   },
   "file_extension": ".py",
   "mimetype": "text/x-python",
   "name": "python",
   "nbconvert_exporter": "python",
   "pygments_lexer": "ipython3",
   "version": "3.12.3"
  },
  "vscode": {
   "interpreter": {
    "hash": "4431dc44d4f2686070e0fc53d953ad3cc7928e817d4e69983712ddc54c23870a"
   }
  }
 },
 "nbformat": 4,
 "nbformat_minor": 5
}
