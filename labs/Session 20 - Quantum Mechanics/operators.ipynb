{
 "cells": [
  {
   "cell_type": "code",
   "execution_count": null,
   "id": "1eab46f0-7605-4f15-98fb-d0687598250b",
   "metadata": {
    "tags": []
   },
   "outputs": [],
   "source": [
    "# operators.ipynb\n",
    "\n",
    "# Cell 1 - Create two random state vectors (not normalized)\n",
    "\n",
    "import numpy as np\n",
    "from IPython.core.display import Math\n",
    "from qis102_utils import as_latex\n",
    "\n",
    "np.random.seed(2016)\n",
    "ndims = 5\n",
    "\n",
    "psi = np.random.random(ndims) + np.random.random(ndims) * 1j\n",
    "phi = np.random.random(ndims) + np.random.random(ndims) * 1j\n",
    "\n",
    "display(as_latex(psi, prefix=r\"\\mathbf{\\lvert\\psi\\rangle}=\", column=True))\n",
    "display(as_latex(phi, prefix=r\"\\mathbf{\\lvert\\phi\\rangle}=\", column=True))"
   ]
  },
  {
   "cell_type": "code",
   "execution_count": null,
   "id": "c60d51ad-4bf3-48f3-89f1-0154e7803835",
   "metadata": {
    "tags": []
   },
   "outputs": [],
   "source": [
    "# Cell 2 - Create a Hermitian Operator (as a matrix)\n",
    "\n",
    "\n",
    "def create_hermitian_matrix(ndims):\n",
    "    a = np.zeros((ndims, ndims), dtype=complex)\n",
    "    for i in range(ndims):\n",
    "        for j in range(i, ndims):\n",
    "            r1 = np.random.random()\n",
    "            r2 = np.random.random()\n",
    "            if i == j:\n",
    "                a[i, j] = complex(r1, 0)\n",
    "            else:\n",
    "                a[i, j] = complex(r1, r2)\n",
    "                a[j, i] = complex(r1, -r2)\n",
    "    return a\n",
    "\n",
    "\n",
    "op = create_hermitian_matrix(ndims)\n",
    "\n",
    "display(as_latex(op, prefix=r\"\\mathbf{\\hat{O}}=\"))"
   ]
  },
  {
   "cell_type": "code",
   "execution_count": null,
   "id": "df5958db-3772-475b-9af0-e95d47c0409e",
   "metadata": {
    "tags": []
   },
   "outputs": [],
   "source": [
    "# Cell 3 - A Hermitian operator applied to its eigenkets will produce its eigenvalues\n",
    "\n",
    "eigen_vals, eigen_vecs = np.linalg.eig(op)\n",
    "\n",
    "# Note: The eigenvalues of a Hermitian operator are all real\n",
    "display(as_latex(eigen_vals, prefix=r\"\\mathbf{\\lambda}=\"))\n",
    "\n",
    "# Note: In numpy, eigenvectors are returned as columns\n",
    "for i in range(ndims):\n",
    "    display(as_latex(eigen_vecs[:, i], prefix=rf\"\\mathbf{{v_{i}}}=\"))\n",
    "\n",
    "bra_phi = phi.conj().T\n",
    "\n",
    "for i in range(ndims):\n",
    "    t1 = np.dot(bra_phi, np.dot(op, eigen_vecs[:, i]))\n",
    "    t2 = np.dot(bra_phi, eigen_vals[i] * eigen_vecs[:, i])\n",
    "    display(\n",
    "        Math(\n",
    "            (\n",
    "                rf\"\\large\\mathbf{{\\langle\\phi\\lvert\\hat{{O}}\\lvert v_{i}\\rangle=\"\n",
    "                rf\"\\langle\\phi\\lvert\\lambda_{i}\\lvert v_{i}\\rangle}}\\;?\\;\\rightarrow\\;{np.isclose(t1,t2)}\"\n",
    "            )\n",
    "        )\n",
    "    )"
   ]
  },
  {
   "cell_type": "code",
   "execution_count": null,
   "id": "8edf55a9-4b55-4293-986c-eb7a5287b940",
   "metadata": {
    "tags": []
   },
   "outputs": [],
   "source": [
    "# Cell 4 - All non-degenerate eigenvectors\n",
    "# of a Hermitian operator are orthogonal to each other\n",
    "\n",
    "for i in range(ndims):\n",
    "    for j in range(i + 1, ndims):\n",
    "        display(\n",
    "            Math(\n",
    "                (\n",
    "                    rf\"\\large\\mathbf{{v_{i}\\cdot v_{j}}}\\;=\\;\"\n",
    "                    rf\"{np.dot(eigen_vecs[:,i].conj(),eigen_vecs[:,j]).round(4)}\"\n",
    "                )\n",
    "            )\n",
    "        )"
   ]
  },
  {
   "cell_type": "code",
   "execution_count": null,
   "id": "4d97b44e-45d1-4470-8d36-151a64c56392",
   "metadata": {
    "tags": []
   },
   "outputs": [],
   "source": [
    "# Cell 5 - Get Matrix From Operator in a given basis\n",
    "\n",
    "\n",
    "def get_matrix_from_operator(op, basis):\n",
    "    m = np.zeros_like(op)\n",
    "\n",
    "    for i, _ in np.ndenumerate(op):\n",
    "        row, col = i[0], i[1]\n",
    "        t1 = np.dot(basis[row].conj().T, op @ basis[col])\n",
    "        m[row, col] = t1\n",
    "    return m\n",
    "\n",
    "\n",
    "# Create a Hermitian operator matrix\n",
    "op = np.array([[4, -2], [-2, 4]], dtype=complex)\n",
    "\n",
    "# Get the eigenvalues and eigenvectors for the operator\n",
    "eigen_vals, eigen_vecs = np.linalg.eig(op)\n",
    "\n",
    "# Get the operator's components using its eigenvectors as its basis\n",
    "m = get_matrix_from_operator(op, eigen_vecs)\n",
    "\n",
    "display(as_latex(op, prefix=r\"\\mathbf{\\hat{O}}=\"))\n",
    "display(as_latex(eigen_vecs, prefix=r\"\\mathbf{\\epsilon}=\"))\n",
    "display(as_latex(m, prefix=r\"\\mathbf{O}=\"))\n",
    "display(as_latex(eigen_vals, prefix=r\"\\mathbf{\\lambda}=\"))"
   ]
  },
  {
   "cell_type": "code",
   "execution_count": null,
   "id": "6d941f08-fea4-4ea0-9cf1-634ae602d6b6",
   "metadata": {
    "tags": []
   },
   "outputs": [],
   "source": [
    "# Cell 6 - Calculate the Commutator\n",
    "\n",
    "ndims = 3\n",
    "omega_1 = create_hermitian_matrix(ndims)\n",
    "omega_2 = create_hermitian_matrix(ndims)\n",
    "\n",
    "commutator = np.dot(omega_1, omega_2) - np.dot(omega_2, omega_1)\n",
    "\n",
    "display(as_latex(omega_1, prefix=r\"\\mathbf{\\Omega_1}=\"))\n",
    "display(as_latex(omega_2, prefix=r\"\\mathbf{\\Omega_2}=\"))\n",
    "display(as_latex(commutator, prefix=r\"\\mathbf{[\\Omega_1,\\Omega_2]}=\"))\n",
    "\n",
    "display(\n",
    "    Math(\n",
    "        (\n",
    "            rf\"\\large\\mathbf{{\\Omega_1}}\\;\\text{{and}}\\;\\mathbf{{\\Omega_2}}\\;\"\n",
    "            rf\"\\text{{commute}}\\;?\\;\\rightarrow\\;{np.isclose(commutator,0).all()}\"\n",
    "        )\n",
    "    )\n",
    ")"
   ]
  },
  {
   "cell_type": "code",
   "execution_count": null,
   "id": "4fcce813-9d1a-4d37-a997-504fb9dcc5f6",
   "metadata": {
    "tags": []
   },
   "outputs": [],
   "source": [
    "# Cell 7 - All diagonal matrices commute with each other\n",
    "\n",
    "\n",
    "def create_diagonal_matrix(ndims):\n",
    "    a = np.zeros((ndims, ndims), dtype=complex)\n",
    "    for i in range(ndims):\n",
    "        r1 = np.random.random()\n",
    "        r2 = np.random.random()\n",
    "        a[i, i] = complex(r1, r2)\n",
    "    return a\n",
    "\n",
    "\n",
    "omega_1 = create_diagonal_matrix(ndims)\n",
    "omega_2 = create_diagonal_matrix(ndims)\n",
    "\n",
    "commutator = np.dot(omega_1, omega_2) - np.dot(omega_2, omega_1)\n",
    "\n",
    "display(as_latex(omega_1, prefix=r\"\\mathbf{\\Omega_1}=\"))\n",
    "display(as_latex(omega_2, prefix=r\"\\mathbf{\\Omega_2}=\"))\n",
    "display(as_latex(commutator, prefix=r\"\\mathbf{[\\Omega_1,\\Omega_2]}=\"))\n",
    "display(\n",
    "    Math(\n",
    "        (\n",
    "            rf\"\\large\\mathbf{{\\Omega_1}}\\;\\text{{and}}\\;\\mathbf{{\\Omega_2}}\\;\"\n",
    "            rf\"\\text{{commute}}\\;?\\;\\rightarrow\\;{np.isclose(commutator,0).all()}\"\n",
    "        )\n",
    "    )\n",
    ")"
   ]
  }
 ],
 "metadata": {
  "kernelspec": {
   "display_name": "Python 3 (ipykernel)",
   "language": "python",
   "name": "python3"
  },
  "language_info": {
   "codemirror_mode": {
    "name": "ipython",
    "version": 3
   },
   "file_extension": ".py",
   "mimetype": "text/x-python",
   "name": "python",
   "nbconvert_exporter": "python",
   "pygments_lexer": "ipython3",
   "version": "3.12.3"
  },
  "vscode": {
   "interpreter": {
    "hash": "4431dc44d4f2686070e0fc53d953ad3cc7928e817d4e69983712ddc54c23870a"
   }
  }
 },
 "nbformat": 4,
 "nbformat_minor": 5
}
