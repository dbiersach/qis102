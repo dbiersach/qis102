{
 "cells": [
  {
   "cell_type": "code",
   "execution_count": null,
   "id": "234fd5e7-ac1c-4ed6-9e77-858958e85d14",
   "metadata": {},
   "outputs": [],
   "source": [
    "# deutsch_jozsa.ipynb\n",
    "\n",
    "# Cell 1 - Implement Deutsch-Jozsa Oracle\n",
    "\n",
    "import numpy as np\n",
    "\n",
    "q_0 = np.array([1, 0], dtype=complex)\n",
    "q_1 = np.array([0, 1], dtype=complex)\n",
    "\n",
    "g_I = np.array([[1, 0], [0, 1]], dtype=complex)\n",
    "g_H = np.array([[1, 1], [1, -1]], dtype=complex) / np.sqrt(2)\n",
    "g_H2 = np.kron(g_H, g_H)\n",
    "\n",
    "\n",
    "def deutsch_jozsa(u_f):\n",
    "    x = np.kron(q_0, q_0)\n",
    "    y = np.copy(q_1)\n",
    "\n",
    "    g1 = np.dot(g_H2, x)\n",
    "    g2 = np.dot(g_H, y)\n",
    "\n",
    "    t1 = np.kron(g1, g2)\n",
    "    g3 = np.dot(u_f, t1)\n",
    "\n",
    "    t2 = np.kron(g_H2, g_I)\n",
    "    g4 = np.dot(g3, t2)\n",
    "\n",
    "    if np.isclose(g4[2:], 0).all():\n",
    "        print(\"Constant\")\n",
    "    else:\n",
    "        print(\"Balanced\")\n",
    "\n",
    "\n",
    "# This secret function is Balanced\n",
    "\n",
    "u_f1 = np.zeros((8, 8), dtype=complex)\n",
    "u_f1[0, 1] = u_f1[1, 0] = u_f1[2, 3] = u_f1[3, 2] = 1\n",
    "u_f1[4, 4] = u_f1[5, 5] = u_f1[6, 6] = u_f1[7, 7] = 1\n",
    "\n",
    "deutsch_jozsa(u_f1)"
   ]
  },
  {
   "cell_type": "code",
   "execution_count": null,
   "id": "19bb102b-b0ca-4a30-8b1d-26330cc9cd4c",
   "metadata": {},
   "outputs": [],
   "source": [
    "# Cell 2 - This secret function is Constant 1\n",
    "\n",
    "u_f2 = np.zeros((8, 8), dtype=complex)\n",
    "u_f2[0, 1] = u_f2[1, 0] = u_f2[2, 3] = u_f2[3, 2] = 1\n",
    "u_f2[4, 5] = u_f2[5, 4] = u_f2[6, 7] = u_f2[7, 6] = 1\n",
    "\n",
    "deutsch_jozsa(u_f2)"
   ]
  },
  {
   "cell_type": "code",
   "execution_count": null,
   "id": "b8e03274-7cba-4151-a6b8-1205e13b9733",
   "metadata": {},
   "outputs": [],
   "source": [
    "# Cell 3 - This secret function is Constant 0\n",
    "\n",
    "u_f3 = np.zeros((8, 8), dtype=complex)\n",
    "u_f3[0, 0] = u_f3[1, 1] = u_f3[2, 2] = u_f3[3, 3] = 1\n",
    "u_f3[4, 4] = u_f3[5, 5] = u_f3[6, 6] = u_f3[7, 7] = 1\n",
    "\n",
    "deutsch_jozsa(u_f3)"
   ]
  },
  {
   "cell_type": "code",
   "execution_count": null,
   "id": "55285ff8-c79b-4b22-9908-e1c981179289",
   "metadata": {},
   "outputs": [],
   "source": [
    "# Cell4 - This secret function is Balanced\n",
    "\n",
    "u_f4 = np.zeros((8, 8), dtype=complex)\n",
    "u_f4[0, 0] = u_f4[1, 1] = u_f4[2, 2] = u_f4[3, 3] = 1\n",
    "u_f4[4, 5] = u_f4[5, 4] = u_f4[6, 7] = u_f4[7, 6] = 1\n",
    "\n",
    "deutsch_jozsa(u_f4)"
   ]
  }
 ],
 "metadata": {
  "kernelspec": {
   "display_name": "Python 3 (ipykernel)",
   "language": "python",
   "name": "python3"
  },
  "language_info": {
   "codemirror_mode": {
    "name": "ipython",
    "version": 3
   },
   "file_extension": ".py",
   "mimetype": "text/x-python",
   "name": "python",
   "nbconvert_exporter": "python",
   "pygments_lexer": "ipython3",
   "version": "3.12.3"
  }
 },
 "nbformat": 4,
 "nbformat_minor": 5
}
