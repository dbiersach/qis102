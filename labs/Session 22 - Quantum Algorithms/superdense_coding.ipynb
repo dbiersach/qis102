{
 "cells": [
  {
   "cell_type": "code",
   "execution_count": null,
   "id": "6d0fa5bb-791e-4b0c-9ffd-3ca0b834f39c",
   "metadata": {
    "tags": []
   },
   "outputs": [],
   "source": [
    "# superdense_coding.ipynb\n",
    "\n",
    "from IPython.core.display import Math\n",
    "from IPython.display import display\n",
    "from qis102_utils import as_latex\n",
    "from qiskit import QuantumCircuit, transpile\n",
    "from qiskit.visualization import (\n",
    "    plot_distribution,\n",
    ")\n",
    "from qiskit_aer import AerSimulator\n",
    "\n",
    "# Cell 1 - Encode two classical bits into one qubit\n",
    "\n",
    "\n",
    "def superdense_coding(a, b):\n",
    "    qc = QuantumCircuit(2, 2)\n",
    "    qc.h(0)\n",
    "    qc.cx(0, 1)\n",
    "    qc.save_statevector(\"sv1\")\n",
    "    if a == 0 and b == 0:\n",
    "        qc.id(0)\n",
    "    if b == 1:\n",
    "        qc.z(0)\n",
    "    if a == 1:\n",
    "        qc.x(0)\n",
    "    qc.save_statevector(\"sv2\")\n",
    "    qc.cx(0, 1)\n",
    "    qc.h(0)\n",
    "    qc.save_statevector(\"sv3\")\n",
    "    qc.measure(0, 0)\n",
    "    qc.measure(1, 1)\n",
    "\n",
    "    backend = AerSimulator()\n",
    "    qc_transpiled = transpile(qc, backend)\n",
    "    result = backend.run(qc_transpiled).result()\n",
    "\n",
    "    sv1 = result.data(0)[\"sv1\"]\n",
    "    sv2 = result.data(0)[\"sv2\"]\n",
    "    sv3 = result.data(0)[\"sv3\"]\n",
    "\n",
    "    display(Math((rf\"\\large\\mathbf{{a={a},b={b}}}\")))\n",
    "    display(qc.draw(output=\"mpl\"))\n",
    "    display(as_latex(sv1, prefix=r\"\\mathbf{Statevector\\;1}=\"))\n",
    "    display(as_latex(sv2, prefix=r\"\\mathbf{Statevector\\;2}=\"))\n",
    "    display(as_latex(sv3, prefix=r\"\\mathbf{Statevector\\;3}=\"))\n",
    "\n",
    "    counts = result.get_counts(qc)\n",
    "    display(plot_distribution(counts))\n",
    "\n",
    "\n",
    "for a in [0, 1]:\n",
    "    for b in [0, 1]:\n",
    "        superdense_coding(a, b)"
   ]
  }
 ],
 "metadata": {
  "kernelspec": {
   "display_name": "Python 3 (ipykernel)",
   "language": "python",
   "name": "python3"
  },
  "language_info": {
   "codemirror_mode": {
    "name": "ipython",
    "version": 3
   },
   "file_extension": ".py",
   "mimetype": "text/x-python",
   "name": "python",
   "nbconvert_exporter": "python",
   "pygments_lexer": "ipython3",
   "version": "3.12.3"
  }
 },
 "nbformat": 4,
 "nbformat_minor": 5
}
