{
 "cells": [
  {
   "cell_type": "code",
   "execution_count": null,
   "id": "ab9b1527-5840-4e66-b9d8-e7fb8be5a316",
   "metadata": {
    "tags": []
   },
   "outputs": [],
   "source": [
    "# qiskit_runtime.ipynb\n",
    "\n",
    "from pathlib import Path\n",
    "\n",
    "from matplotlib import pyplot as plt\n",
    "from qiskit import QuantumCircuit\n",
    "from qiskit.quantum_info import SparsePauliOp\n",
    "from qiskit.transpiler.preset_passmanagers import generate_preset_pass_manager\n",
    "from qiskit_ibm_runtime import EstimatorV2 as Estimator\n",
    "from qiskit_ibm_runtime import QiskitRuntimeService\n",
    "\n",
    "# Cell 1 - Save IBM API Token\n",
    "\n",
    "my_api_token = \"you_api_key_here\"\n",
    "\n",
    "# Saves your IBM Quantum credential to $HOME/.qiskit/qiskit-ibm.json\n",
    "QiskitRuntimeService.save_account(\n",
    "    channel=\"ibm_quantum\",\n",
    "    token=my_api_token,\n",
    "    overwrite=True,\n",
    ")\n",
    "\n",
    "# Verify credential file was created\n",
    "with open(Path.home() / \".qiskit\" / \"qiskit-ibm.json\", \"r\") as f_in:\n",
    "    credential_file = f_in.read()\n",
    "    print(credential_file)"
   ]
  },
  {
   "cell_type": "code",
   "execution_count": null,
   "id": "b3e6084a-61b2-4457-ba00-0a16084039ce",
   "metadata": {},
   "outputs": [],
   "source": [
    "# Cell 2 - Display available backends\n",
    "\n",
    "service = QiskitRuntimeService(channel=\"ibm_quantum\")\n",
    "\n",
    "for backend in service.backends(simulator=False, operational=True):\n",
    "    config = backend.configuration()\n",
    "    print(\n",
    "        f\"{config.backend_name:15}: Qubits = {config.n_qubits}: Gates = {config.basis_gates}\"\n",
    "    )\n"
   ]
  },
  {
   "cell_type": "code",
   "execution_count": null,
   "id": "94ef7fdd",
   "metadata": {},
   "outputs": [],
   "source": [
    "# Cell 3 - Create a Bell State (|00> + |11>)\n",
    "\n",
    "qc = QuantumCircuit(2)\n",
    "qc.h(0)\n",
    "qc.cx(0, 1)\n",
    "\n",
    "qc.draw(output=\"mpl\")\n"
   ]
  },
  {
   "cell_type": "code",
   "execution_count": null,
   "id": "41d883c9",
   "metadata": {},
   "outputs": [],
   "source": [
    "# Cell 4 - Prepare circuit for least busy IBM quantum computer\n",
    "\n",
    "backend = service.least_busy(simulator=False, operational=True)\n",
    "pm = generate_preset_pass_manager(backend=backend, optimization_level=1)\n",
    "isa_circuit = pm.run(qc)\n",
    "\n",
    "isa_circuit.draw(\"mpl\", idle_wires=False)\n"
   ]
  },
  {
   "cell_type": "code",
   "execution_count": null,
   "id": "574b9338",
   "metadata": {},
   "outputs": [],
   "source": [
    "# Cell 5 - Run circuit on the IBM quantum computer\n",
    "\n",
    "estimator = Estimator(backend)\n",
    "estimator.options.resilience_level = 1\n",
    "estimator.options.default_shots = 5000\n",
    "\n",
    "observables_labels = [\"IZ\", \"IX\", \"ZI\", \"XI\", \"ZZ\", \"XX\"]\n",
    "observables = [SparsePauliOp(label) for label in observables_labels]\n",
    "mapped_observables = [\n",
    "    observable.apply_layout(isa_circuit.layout) for observable in observables\n",
    "]\n",
    "\n",
    "job = estimator.run([(isa_circuit, mapped_observables)])\n",
    "\n",
    "print(f\">>> Job ID: {job.job_id()}\")\n"
   ]
  },
  {
   "cell_type": "code",
   "execution_count": null,
   "id": "bf452acf",
   "metadata": {},
   "outputs": [],
   "source": [
    "# Cell 5 (Alternate) - Run circuit on the IBM simulator\n",
    "\n",
    "from qiskit_ibm_runtime.fake_provider import FakeAlmadenV2\n",
    "\n",
    "backend = FakeAlmadenV2()\n",
    "estimator = Estimator(backend)\n",
    "\n",
    "pm = generate_preset_pass_manager(backend=backend, optimization_level=1)\n",
    "isa_circuit = pm.run(qc)\n",
    "\n",
    "observables_labels = [\"IZ\", \"IX\", \"ZI\", \"XI\", \"ZZ\", \"XX\"]\n",
    "observables = [SparsePauliOp(label) for label in observables_labels]\n",
    "mapped_observables = [\n",
    "    observable.apply_layout(isa_circuit.layout) for observable in observables\n",
    "]\n",
    "\n",
    "job = estimator.run([(isa_circuit, mapped_observables)])\n",
    "\n",
    "print(f\">>> Job ID: {job.job_id()}\")\n"
   ]
  },
  {
   "cell_type": "code",
   "execution_count": null,
   "id": "cca3bfbd",
   "metadata": {},
   "outputs": [],
   "source": [
    "# Cell 6 - Get job results and plot observables\n",
    "\n",
    "job_result = job.result()\n",
    "pub_result = job.result()[0]\n",
    "\n",
    "values = pub_result.data.evs\n",
    "errors = pub_result.data.stds\n",
    "\n",
    "plt.plot(observables_labels, values, \"-o\")\n",
    "plt.xlabel(\"Observables\")\n",
    "plt.ylabel(\"Values\")\n",
    "plt.show()\n"
   ]
  }
 ],
 "metadata": {
  "kernelspec": {
   "display_name": "Python 3 (ipykernel)",
   "language": "python",
   "name": "python3"
  },
  "language_info": {
   "codemirror_mode": {
    "name": "ipython",
    "version": 3
   },
   "file_extension": ".py",
   "mimetype": "text/x-python",
   "name": "python",
   "nbconvert_exporter": "python",
   "pygments_lexer": "ipython3",
   "version": "3.12.3"
  }
 },
 "nbformat": 4,
 "nbformat_minor": 5
}
