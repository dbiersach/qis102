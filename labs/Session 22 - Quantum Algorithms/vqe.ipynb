{
 "cells": [
  {
   "cell_type": "code",
   "execution_count": null,
   "id": "c5ad7500-e442-4504-8e39-15ab61665715",
   "metadata": {},
   "outputs": [],
   "source": [
    "# vqe.ipynb\n",
    "\n",
    "from IPython.core.display import Math\n",
    "from IPython.display import display\n",
    "from qis102_utils import as_latex\n",
    "from qiskit.algorithms.minimum_eigensolvers import VQE\n",
    "from qiskit.algorithms.optimizers import COBYLA\n",
    "from qiskit.circuit.library import TwoLocal\n",
    "from qiskit.opflow import I, X, Z\n",
    "from qiskit.primitives import Estimator\n",
    "\n",
    "# Cell 1 - Call the Qiskit VQE routine\n",
    "\n",
    "# Define the Hamiltonian with Pauli operators\n",
    "H = 0.5 * X.tensor(X) + 0.5 * Z.tensor(Z) - 1.0 * I.tensor(Z) - 0.5 * Z.tensor(I)\n",
    "\n",
    "# Define the ansatz\n",
    "ansatz = TwoLocal(rotation_blocks=\"ry\", entanglement_blocks=\"cz\")\n",
    "\n",
    "# Run the VQE\n",
    "vqe = VQE(estimator=Estimator(), ansatz=ansatz, optimizer=COBYLA())\n",
    "result = vqe.compute_minimum_eigenvalue(operator=H)\n",
    "\n",
    "# Display the Hamiltonian operator matrix\n",
    "display(as_latex(H.to_matrix(), prefix=r\"\\mathbf{\\hat{H}}=\"))\n",
    "\n",
    "# Display the minimum energy level of the Hamiltonian\n",
    "display(\n",
    "    Math(\n",
    "        r\"\\mathrm{\\text{The computed ground state energy is: \"\n",
    "        rf\"{result.eigenvalue.real:.5f}\"\n",
    "        r\"}}\"\n",
    "    )\n",
    ")"
   ]
  }
 ],
 "metadata": {
  "kernelspec": {
   "display_name": "Python 3 (ipykernel)",
   "language": "python",
   "name": "python3"
  },
  "language_info": {
   "codemirror_mode": {
    "name": "ipython",
    "version": 3
   },
   "file_extension": ".py",
   "mimetype": "text/x-python",
   "name": "python",
   "nbconvert_exporter": "python",
   "pygments_lexer": "ipython3",
   "version": "3.12.3"
  }
 },
 "nbformat": 4,
 "nbformat_minor": 5
}
