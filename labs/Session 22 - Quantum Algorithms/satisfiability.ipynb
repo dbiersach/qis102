{
 "cells": [
  {
   "cell_type": "code",
   "execution_count": null,
   "id": "6b85e378-3866-432d-a322-3c1e3aca2a33",
   "metadata": {},
   "outputs": [],
   "source": [
    "# satisfiability.ipynb\n",
    "\n",
    "from IPython.display import display\n",
    "from qiskit import QuantumCircuit, transpile\n",
    "from qiskit.visualization import (\n",
    "    plot_distribution,\n",
    ")\n",
    "from qiskit_aer import AerSimulator\n",
    "\n",
    "# Cell 1 - (ab)(bc)(ac)==1 ??\n",
    "\n",
    "qc = QuantumCircuit(13, 1)\n",
    "\n",
    "qc.h(0)  # a bit\n",
    "qc.h(1)  # b bit\n",
    "qc.h(2)  # c bit\n",
    "\n",
    "qc.x(3)  # q3 = TRUE\n",
    "qc.ccx(2, 3, 4)  # q4 = c and q3\n",
    "\n",
    "qc.ccx(0, 1, 5)  # q5 = a and b\n",
    "qc.ccx(1, 4, 6)  # q6 = b and (c and q3)\n",
    "qc.ccx(0, 4, 7)  # q7 = a and (c and q3)\n",
    "\n",
    "qc.ccx(5, 6, 8)  # q8 = q5 and q6\n",
    "qc.ccx(6, 7, 9)  # q9 = q6 and q7\n",
    "\n",
    "qc.ccx(8, 9, 10)  # q10 = q8 and q9\n",
    "\n",
    "qc.x(11)  # q11 = TRUE\n",
    "qc.ccx(10, 11, 12)  # q10 and q11\n",
    "\n",
    "qc.measure(12, 0)\n",
    "\n",
    "# Now run the circuit on the device\n",
    "backend = AerSimulator()\n",
    "qc_transpiled = transpile(qc, backend)\n",
    "result = backend.run(qc_transpiled).result()\n",
    "\n",
    "display(qc.draw(output=\"mpl\"))\n",
    "counts = result.get_counts(qc)\n",
    "display(plot_distribution(counts))"
   ]
  }
 ],
 "metadata": {
  "kernelspec": {
   "display_name": "Python 3 (ipykernel)",
   "language": "python",
   "name": "python3"
  },
  "language_info": {
   "codemirror_mode": {
    "name": "ipython",
    "version": 3
   },
   "file_extension": ".py",
   "mimetype": "text/x-python",
   "name": "python",
   "nbconvert_exporter": "python",
   "pygments_lexer": "ipython3",
   "version": "3.12.3"
  }
 },
 "nbformat": 4,
 "nbformat_minor": 5
}
