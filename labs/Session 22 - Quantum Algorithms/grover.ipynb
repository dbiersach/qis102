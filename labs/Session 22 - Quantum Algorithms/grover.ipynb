{
 "cells": [
  {
   "cell_type": "code",
   "execution_count": null,
   "id": "6d0fa5bb-791e-4b0c-9ffd-3ca0b834f39c",
   "metadata": {
    "tags": []
   },
   "outputs": [],
   "source": [
    "# grover.ipynb\n",
    "\n",
    "import qiskit\n",
    "from IPython.display import display\n",
    "from qis102_utils import as_latex\n",
    "from qiskit import QuantumCircuit, transpile\n",
    "from qiskit.visualization import (\n",
    "    plot_distribution,\n",
    ")\n",
    "from qiskit_aer import AerSimulator\n",
    "\n",
    "# Cell 1 - Check qiskit install\n",
    "\n",
    "print(f\"Qiskit SDK Version: {qiskit.__version__}\")"
   ]
  },
  {
   "cell_type": "code",
   "execution_count": null,
   "id": "4f42b007-a61f-43be-a07c-9da536f822b8",
   "metadata": {},
   "outputs": [],
   "source": [
    "# Cell 2 - Grover's Algorithm (Winner is |11>)\n",
    "\n",
    "qc = QuantumCircuit(2)\n",
    "qc.h(0)\n",
    "qc.h(1)\n",
    "qc.save_statevector(\"sv1\")\n",
    "qc.cz(0, 1)\n",
    "qc.save_statevector(\"sv2\")\n",
    "qc.h(0)\n",
    "qc.h(1)\n",
    "qc.save_statevector(\"sv3\")\n",
    "qc.z(0)\n",
    "qc.z(1)\n",
    "qc.save_statevector(\"sv4\")\n",
    "qc.cz(0, 1)\n",
    "qc.save_statevector(\"sv5\")\n",
    "qc.h(0)\n",
    "qc.h(1)\n",
    "qc.measure_all()\n",
    "\n",
    "display(qc.draw(output=\"mpl\"))\n",
    "backend = AerSimulator()\n",
    "qc_transpiled = transpile(qc, backend)\n",
    "result = backend.run(qc_transpiled, shots=100_000).result()\n",
    "\n",
    "sv1 = result.data(0)[\"sv1\"]\n",
    "sv2 = result.data(0)[\"sv2\"]\n",
    "sv3 = result.data(0)[\"sv3\"]\n",
    "sv4 = result.data(0)[\"sv4\"]\n",
    "sv5 = result.data(0)[\"sv5\"]\n",
    "\n",
    "display(as_latex(sv1, prefix=r\"\\mathbf{Statevector\\;1}=\"))\n",
    "display(as_latex(sv2, prefix=r\"\\mathbf{Statevector\\;2}=\"))\n",
    "display(as_latex(sv3, prefix=r\"\\mathbf{Statevector\\;3}=\"))\n",
    "display(as_latex(sv4, prefix=r\"\\mathbf{Statevector\\;4}=\"))\n",
    "display(as_latex(sv5, prefix=r\"\\mathbf{Statevector\\;5}=\"))\n",
    "\n",
    "counts = result.get_counts(qc)\n",
    "display(plot_distribution(counts))"
   ]
  },
  {
   "cell_type": "code",
   "execution_count": null,
   "id": "46af6fa4-60cf-4d0c-82fe-584862f33f22",
   "metadata": {
    "tags": []
   },
   "outputs": [],
   "source": [
    "# Cell 3 - Build Grover Oracle to set |11> as winner\n",
    "\n",
    "qc = QuantumCircuit(2)\n",
    "qc.cz(0, 1)\n",
    "qc.save_unitary()\n",
    "\n",
    "display(qc.draw(output=\"mpl\"))\n",
    "\n",
    "backend = AerSimulator()\n",
    "qc_transpiled = transpile(qc, backend)\n",
    "result = backend.run(qc_transpiled).result()\n",
    "\n",
    "op = result.get_unitary(qc, 3)\n",
    "display(as_latex(op, prefix=r\"Oracle=\"))"
   ]
  },
  {
   "cell_type": "code",
   "execution_count": null,
   "id": "498de26e-5c7f-4928-b44a-ca8026a7c2d4",
   "metadata": {
    "tags": []
   },
   "outputs": [],
   "source": [
    "# Cell 4 - Build Grover Oracle to set |10> as winner\n",
    "\n",
    "qc = QuantumCircuit(2)\n",
    "qc.z(1)\n",
    "qc.cz(0, 1)\n",
    "qc.save_unitary()\n",
    "\n",
    "display(qc.draw(output=\"mpl\"))\n",
    "\n",
    "backend = AerSimulator()\n",
    "qc_transpiled = transpile(qc, backend)\n",
    "result = backend.run(qc_transpiled).result()\n",
    "\n",
    "op = result.get_unitary(qc, 3)\n",
    "display(as_latex(op, prefix=r\"Oracle=\"))"
   ]
  },
  {
   "cell_type": "code",
   "execution_count": null,
   "id": "8280a2fe-0b06-493f-8407-480242647d63",
   "metadata": {
    "tags": []
   },
   "outputs": [],
   "source": [
    "# Cell 5 - Build Grover Oracle to set |01> as winner\n",
    "\n",
    "qc = QuantumCircuit(2)\n",
    "qc.z(0)\n",
    "qc.cz(0, 1)\n",
    "qc.save_unitary()\n",
    "\n",
    "display(qc.draw(output=\"mpl\"))\n",
    "\n",
    "backend = AerSimulator()\n",
    "qc_transpiled = transpile(qc, backend)\n",
    "result = backend.run(qc_transpiled).result()\n",
    "\n",
    "op = result.get_unitary(qc, 3)\n",
    "display(as_latex(op, prefix=r\"Oracle=\"))"
   ]
  },
  {
   "cell_type": "code",
   "execution_count": null,
   "id": "b772da19-90a2-4ca2-9764-892b4ef03b02",
   "metadata": {
    "tags": []
   },
   "outputs": [],
   "source": [
    "# Cell 6 - Build Grover Oracle to set |00> as winner\n",
    "qc = QuantumCircuit(2)\n",
    "qc.x(0)\n",
    "qc.x(1)\n",
    "qc.cz(0, 1)\n",
    "qc.x(0)\n",
    "qc.x(1)\n",
    "qc.save_unitary()\n",
    "\n",
    "display(qc.draw(output=\"mpl\"))\n",
    "\n",
    "backend = AerSimulator()\n",
    "qc_transpiled = transpile(qc, backend)\n",
    "result = backend.run(qc_transpiled).result()\n",
    "\n",
    "op = result.get_unitary(qc, 3)\n",
    "display(as_latex(op, prefix=r\"Oracle=\"))"
   ]
  }
 ],
 "metadata": {
  "kernelspec": {
   "display_name": "Python 3 (ipykernel)",
   "language": "python",
   "name": "python3"
  },
  "language_info": {
   "codemirror_mode": {
    "name": "ipython",
    "version": 3
   },
   "file_extension": ".py",
   "mimetype": "text/x-python",
   "name": "python",
   "nbconvert_exporter": "python",
   "pygments_lexer": "ipython3",
   "version": "3.12.3"
  }
 },
 "nbformat": 4,
 "nbformat_minor": 5
}
