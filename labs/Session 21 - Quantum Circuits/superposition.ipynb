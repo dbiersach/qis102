{
 "cells": [
  {
   "cell_type": "code",
   "execution_count": null,
   "id": "2e97e43a-b2e8-4998-b300-d3818f48ccc7",
   "metadata": {
    "tags": []
   },
   "outputs": [],
   "source": [
    "# superposition.ipynb\n",
    "\n",
    "import numpy as np\n",
    "from IPython.display import display\n",
    "from qis102_utils import as_latex\n",
    "from qiskit import QuantumCircuit, transpile\n",
    "from qiskit.visualization import (\n",
    "    plot_bloch_multivector,\n",
    "    plot_distribution,\n",
    "    plot_histogram,\n",
    ")\n",
    "from qiskit_aer import AerSimulator\n",
    "\n",
    "# Cell 1 - One qubit on Z basis\n",
    "\n",
    "qc = QuantumCircuit(1)\n",
    "qc.initialize([0, 1], 0)\n",
    "qc.save_statevector(\"sv1\")\n",
    "qc.x(0)\n",
    "qc.save_statevector(\"sv2\")\n",
    "qc.measure_all()\n",
    "\n",
    "display(qc.draw(output=\"mpl\"))\n",
    "\n",
    "backend = AerSimulator()\n",
    "qc_transpiled = transpile(qc, backend)\n",
    "result = backend.run(qc_transpiled).result()\n",
    "\n",
    "sv1 = result.data(0)[\"sv1\"]\n",
    "sv2 = result.data(0)[\"sv2\"]\n",
    "\n",
    "display(as_latex(sv1, prefix=r\"\\mathbf{Statevector\\;1}=\"))\n",
    "display(plot_bloch_multivector(sv1))\n",
    "display(as_latex(sv2, prefix=r\"\\mathbf{Statevector\\;2}=\"))\n",
    "display(plot_bloch_multivector(sv2))\n",
    "\n",
    "counts = result.get_counts(qc)\n",
    "display(plot_distribution(counts))"
   ]
  },
  {
   "cell_type": "code",
   "execution_count": null,
   "id": "c4d53c3a-b8e5-4c1b-a3b8-86e2a10ef209",
   "metadata": {
    "tags": []
   },
   "outputs": [],
   "source": [
    "# Cell 2 - One qubit NOT on Z basis\n",
    "\n",
    "qc = QuantumCircuit(1)\n",
    "qc.initialize([0.5, np.sqrt(3) / 2], 0)\n",
    "qc.save_statevector(\"sv1\")\n",
    "qc.x(0)\n",
    "qc.save_statevector(\"sv2\")\n",
    "qc.measure_all()\n",
    "\n",
    "display(qc.draw(output=\"mpl\"))\n",
    "backend = AerSimulator()\n",
    "qc_transpiled = transpile(qc, backend)\n",
    "result = backend.run(qc_transpiled).result()\n",
    "\n",
    "sv1 = result.data(0)[\"sv1\"]\n",
    "sv2 = result.data(0)[\"sv2\"]\n",
    "\n",
    "display(as_latex(sv1, prefix=r\"\\mathbf{Statevector\\;1}=\"))\n",
    "display(plot_bloch_multivector(sv1))\n",
    "display(as_latex(sv2, prefix=r\"\\mathbf{Statevector\\;2}=\"))\n",
    "display(plot_bloch_multivector(sv2))\n",
    "\n",
    "counts = result.get_counts(qc)\n",
    "display(plot_distribution(counts))"
   ]
  },
  {
   "cell_type": "code",
   "execution_count": null,
   "id": "f762d8ec-3bfa-4c5f-b9b9-e9603a07ac41",
   "metadata": {
    "tags": []
   },
   "outputs": [],
   "source": [
    "# Cell 3 - One Pete Box\n",
    "\n",
    "qc = QuantumCircuit(1)\n",
    "qc.initialize([0, 1], 0)\n",
    "qc.save_statevector(\"sv1\")\n",
    "qc.h(0)\n",
    "qc.save_statevector(\"sv2\")\n",
    "qc.measure_all()\n",
    "\n",
    "display(qc.draw(output=\"mpl\"))\n",
    "backend = AerSimulator()\n",
    "qc_transpiled = transpile(qc, backend)\n",
    "result = backend.run(qc_transpiled).result()\n",
    "\n",
    "sv1 = result.data(0)[\"sv1\"]\n",
    "sv2 = result.data(0)[\"sv2\"]\n",
    "\n",
    "display(as_latex(sv1, prefix=r\"\\mathbf{Statevector\\;1}=\"))\n",
    "display(plot_bloch_multivector(sv1))\n",
    "display(as_latex(sv2, prefix=r\"\\mathbf{Statevector\\;2}=\"))\n",
    "display(plot_bloch_multivector(sv2))\n",
    "\n",
    "counts = result.get_counts(qc)\n",
    "display(plot_distribution(counts))"
   ]
  },
  {
   "cell_type": "code",
   "execution_count": null,
   "id": "24ba56d7-e724-4341-84cb-588c9c4ef598",
   "metadata": {
    "tags": []
   },
   "outputs": [],
   "source": [
    "# Cell 4 - Two Pete Boxes\n",
    "# Note: This demonstrates the Hadamard Gate is Unitary\n",
    "\n",
    "qc = QuantumCircuit(1)\n",
    "qc.initialize([0, 1], 0)\n",
    "qc.save_statevector(\"sv1\")\n",
    "qc.h(0)\n",
    "qc.save_statevector(\"sv2\")\n",
    "qc.h(0)\n",
    "qc.save_statevector(\"sv3\")\n",
    "qc.measure_all()\n",
    "\n",
    "display(qc.draw(output=\"mpl\"))\n",
    "backend = AerSimulator()\n",
    "qc_transpiled = transpile(qc, backend)\n",
    "result = backend.run(qc_transpiled).result()\n",
    "\n",
    "sv1 = result.data(0)[\"sv1\"]\n",
    "sv2 = result.data(0)[\"sv2\"]\n",
    "sv3 = result.data(0)[\"sv3\"]\n",
    "\n",
    "display(as_latex(sv1, prefix=r\"\\mathbf{Statevector\\;1}=\"))\n",
    "display(plot_bloch_multivector(sv1))\n",
    "display(as_latex(sv2, prefix=r\"\\mathbf{Statevector\\;2}=\"))\n",
    "display(plot_bloch_multivector(sv2))\n",
    "display(as_latex(sv3, prefix=r\"\\mathbf{Statevector\\;2}=\"))\n",
    "display(plot_bloch_multivector(sv3))\n",
    "\n",
    "counts = result.get_counts(qc)\n",
    "display(plot_distribution(counts))"
   ]
  },
  {
   "cell_type": "code",
   "execution_count": null,
   "id": "11eb1cc1-ec8f-4bd3-b9c8-1cfc9c1addec",
   "metadata": {
    "tags": []
   },
   "outputs": [],
   "source": [
    "# Cell 5 - Gate Equivalence (no measurement)\n",
    "# This demonstrates the identity X = HZH\n",
    "\n",
    "qc = QuantumCircuit(1)\n",
    "qc.initialize([0, 1], 0)\n",
    "qc.save_statevector(\"sv1\")\n",
    "qc.h(0)\n",
    "qc.save_statevector(\"sv2\")\n",
    "qc.z(0)\n",
    "qc.save_statevector(\"sv3\")\n",
    "qc.h(0)\n",
    "qc.save_statevector(\"sv4\")\n",
    "\n",
    "display(qc.draw(output=\"mpl\"))\n",
    "backend = AerSimulator()\n",
    "qc_transpiled = transpile(qc, backend)\n",
    "result = backend.run(qc_transpiled).result()\n",
    "\n",
    "sv1 = result.data(0)[\"sv1\"]\n",
    "sv2 = result.data(0)[\"sv2\"]\n",
    "sv3 = result.data(0)[\"sv3\"]\n",
    "sv4 = result.data(0)[\"sv4\"]\n",
    "\n",
    "display(as_latex(sv1, prefix=r\"\\mathbf{Statevector\\;1}=\"))\n",
    "display(plot_bloch_multivector(sv1))\n",
    "display(as_latex(sv2, prefix=r\"\\mathbf{Statevector\\;2}=\"))\n",
    "display(plot_bloch_multivector(sv2))\n",
    "display(as_latex(sv3, prefix=r\"\\mathbf{Statevector\\;3}=\"))\n",
    "display(plot_bloch_multivector(sv3))\n",
    "display(as_latex(sv4, prefix=r\"\\mathbf{Statevector\\;4}=\"))\n",
    "display(plot_bloch_multivector(sv4))"
   ]
  },
  {
   "cell_type": "code",
   "execution_count": null,
   "id": "a6bc7109",
   "metadata": {
    "tags": []
   },
   "outputs": [],
   "source": [
    "# Cell 6 - One qubit circuit not on basis (10 shots)\n",
    "\n",
    "qc = QuantumCircuit(1)\n",
    "qc.initialize([0.5, np.sqrt(3) / 2], 0)\n",
    "qc.x(0)\n",
    "qc.measure_all()\n",
    "\n",
    "display(qc.draw(output=\"mpl\"))\n",
    "backend = AerSimulator()\n",
    "qc_transpiled = transpile(qc, backend)\n",
    "result = backend.run(qc_transpiled, shots=10).result()\n",
    "counts = result.get_counts(qc)\n",
    "display(plot_histogram(counts))"
   ]
  },
  {
   "cell_type": "code",
   "execution_count": null,
   "id": "5cbbd370",
   "metadata": {
    "tags": []
   },
   "outputs": [],
   "source": [
    "# Cell 7 - One qubit circuit not on basis (10,000 shots)\n",
    "\n",
    "qc = QuantumCircuit(1)\n",
    "qc.initialize([0.5, np.sqrt(3) / 2], 0)\n",
    "qc.x(0)\n",
    "qc.measure_all()\n",
    "\n",
    "backend = AerSimulator()\n",
    "qc_transpiled = transpile(qc, backend)\n",
    "result = backend.run(qc_transpiled, shots=100_000).result()\n",
    "counts = result.get_counts(qc)\n",
    "display(plot_distribution(counts))"
   ]
  }
 ],
 "metadata": {
  "kernelspec": {
   "display_name": "Python 3 (ipykernel)",
   "language": "python",
   "name": "python3"
  },
  "language_info": {
   "codemirror_mode": {
    "name": "ipython",
    "version": 3
   },
   "file_extension": ".py",
   "mimetype": "text/x-python",
   "name": "python",
   "nbconvert_exporter": "python",
   "pygments_lexer": "ipython3",
   "version": "3.12.3"
  }
 },
 "nbformat": 4,
 "nbformat_minor": 5
}
