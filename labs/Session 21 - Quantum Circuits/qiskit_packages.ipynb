{
 "cells": [
  {
   "cell_type": "code",
   "execution_count": null,
   "id": "932625ee-31d9-4de8-9194-c9e51031ba85",
   "metadata": {
    "tags": []
   },
   "outputs": [],
   "source": [
    "# qiskit_packages.ipynb\n",
    "\n",
    "# Cell 1 - Check qiskit install\n",
    "\n",
    "import qiskit\n",
    "\n",
    "print(f\"Qiskit SDK Version: {qiskit.__version__}\")"
   ]
  },
  {
   "cell_type": "code",
   "execution_count": null,
   "id": "948284cc",
   "metadata": {},
   "outputs": [],
   "source": [
    "# Cell 2 - List all installed Qiskit-related packages and their versions\n",
    "\n",
    "from importlib.metadata import distributions\n",
    "\n",
    "# List all installed Qiskit-related packages and their versions\n",
    "qiskit_packages = [pkg for pkg in distributions() if \"qiskit\" in pkg.metadata[\"Name\"]]\n",
    "\n",
    "for pkg in qiskit_packages:\n",
    "    print(f\"Package: {pkg.metadata['Name']:<25} Version: {pkg.version}\")"
   ]
  }
 ],
 "metadata": {
  "kernelspec": {
   "display_name": "Python 3 (ipykernel)",
   "language": "python",
   "name": "python3"
  },
  "language_info": {
   "codemirror_mode": {
    "name": "ipython",
    "version": 3
   },
   "file_extension": ".py",
   "mimetype": "text/x-python",
   "name": "python",
   "nbconvert_exporter": "python",
   "pygments_lexer": "ipython3",
   "version": "3.12.3"
  }
 },
 "nbformat": 4,
 "nbformat_minor": 5
}
