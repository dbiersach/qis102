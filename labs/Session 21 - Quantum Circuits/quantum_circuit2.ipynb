{
 "cells": [
  {
   "cell_type": "code",
   "execution_count": null,
   "id": "635e333e-805a-4eb0-a85a-bd5745deaabb",
   "metadata": {},
   "outputs": [],
   "source": [
    "# quantum_circuit2.ipynb\n",
    "\n",
    "from IPython.display import display\n",
    "from qiskit import QuantumCircuit, transpile\n",
    "from qiskit.visualization import (\n",
    "    plot_distribution,\n",
    ")\n",
    "from qiskit_aer import AerSimulator\n",
    "\n",
    "# Cell 1 - Circuit to produce only two states (63 or 64 decimal)\n",
    "\n",
    "qc = QuantumCircuit(7)\n",
    "\n",
    "# TODO: Implement your circuit here\n",
    "\n",
    "\n",
    "# Do not modify the following code\n",
    "display(qc.draw(output=\"mpl\"))\n",
    "\n",
    "backend = AerSimulator()\n",
    "qc_transpiled = transpile(qc, backend)\n",
    "result = backend.run(qc_transpiled, shots=100_000).result()\n",
    "\n",
    "counts = result.get_counts(qc)\n",
    "display(plot_distribution(counts))"
   ]
  }
 ],
 "metadata": {
  "kernelspec": {
   "display_name": "Python 3 (ipykernel)",
   "language": "python",
   "name": "python3"
  },
  "language_info": {
   "codemirror_mode": {
    "name": "ipython",
    "version": 3
   },
   "file_extension": ".py",
   "mimetype": "text/x-python",
   "name": "python",
   "nbconvert_exporter": "python",
   "pygments_lexer": "ipython3",
   "version": "3.12.3"
  }
 },
 "nbformat": 4,
 "nbformat_minor": 5
}
