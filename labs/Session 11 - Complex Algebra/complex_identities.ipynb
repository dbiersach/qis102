{
 "cells": [
  {
   "cell_type": "code",
   "execution_count": null,
   "id": "8f03a49b-b85d-48d6-ae81-58970bfaca91",
   "metadata": {},
   "outputs": [],
   "source": [
    "# complex_identities.ipynb\n",
    "\n",
    "# Cell 1 - the norm respects multiplication\n",
    "\n",
    "import numpy as np\n",
    "from IPython.core.display import Math\n",
    "\n",
    "c1 = -2.6 + 0.7j\n",
    "c2 = 5.11 - 4.9j\n",
    "\n",
    "display(Math(f\"c_1={c1}\"))\n",
    "display(Math(f\"c_2={c2}\"))\n",
    "\n",
    "display(Math(f\"|c_1|={abs(c1)}\"))\n",
    "display(Math(f\"|c_2|={abs(c2)}\"))\n",
    "\n",
    "t1 = abs(c1) * abs(c2)\n",
    "t2 = abs(c1 * c2)\n",
    "\n",
    "display(Math(f\"|c_1||c_2|={t1}\"))\n",
    "display(Math(f\"|c_1 c_2|={t2}\"))\n",
    "\n",
    "# Note that testing for exact bit equality is too strict\n",
    "display(Math(rf\"|c_1||c_2|=|c_1 c_2|\\;?\\;\\rightarrow\\;\\color{{red}}{{{t1 == t2}}}\"))\n",
    "\n",
    "# It is safer to test for equality using np.isclose()\n",
    "display(Math(rf\"|c_1||c_2|\\approx|c_1 c_2|\\;?\\;\\rightarrow\\;{np.isclose(t1, t2)}\"))"
   ]
  },
  {
   "cell_type": "code",
   "execution_count": null,
   "id": "0fd9922e-7ca4-48e2-9932-6ad4c0aa321a",
   "metadata": {},
   "outputs": [],
   "source": [
    "# Cell 2 - the Triangle Inequality\n",
    "\n",
    "# Length of the hypotenuse\n",
    "t1 = abs(c1 + c2)\n",
    "\n",
    "# Sum of lengths of adjacent and opposite sides\n",
    "t2 = abs(c1) + abs(c2)\n",
    "\n",
    "display(Math(f\"|c_1+c_2|={np.round(t1, 5)}\"))\n",
    "display(Math(f\"|c_1|+|c_2|={np.round(t2, 5)}\"))\n",
    "display(Math(rf\"|c_1+c_2|\\leq|c_1|+|c_2|\\;?\\;\\rightarrow\\;{t1 <= t2}\"))"
   ]
  },
  {
   "cell_type": "code",
   "execution_count": null,
   "id": "a12a0cf8-9317-4cc3-abab-394148593c9d",
   "metadata": {},
   "outputs": [],
   "source": [
    "# Cell 3 - conjugation respects addition\n",
    "\n",
    "t1 = c1.conjugate() + c2.conjugate()\n",
    "t2 = (c1 + c2).conjugate()\n",
    "\n",
    "display(Math(rf\"\\overline{{c_1}}+\\overline{{c_2}}={np.round(t1, 5)}\"))\n",
    "display(Math(rf\"\\overline{{c_1+c_2}}={np.round(t2, 5)}\"))\n",
    "\n",
    "display(\n",
    "    Math(\n",
    "        rf\"\\overline{{c_1}}+\\overline{{c_2}}=\\overline{{c_1+c_2}}\\;?\\;\\rightarrow\\;{np.isclose(t1, t2)}\"\n",
    "    )\n",
    ")"
   ]
  },
  {
   "cell_type": "code",
   "execution_count": null,
   "id": "9f4c2f21-f20d-4be8-9b0e-1ff3d63283b7",
   "metadata": {},
   "outputs": [],
   "source": [
    "# Cell 4 - conjugation respects multiplication\n",
    "\n",
    "t1 = np.dot(c1.conjugate(), c2.conjugate())\n",
    "t2 = np.dot(c1, c2).conjugate()\n",
    "\n",
    "display(Math(rf\"\\overline{{c_1}}\\cdot\\overline{{c_2}}={np.round(t1, 5)}\"))\n",
    "display(Math(rf\"\\overline{{c_1\\cdot c_2}}={np.round(t2, 5)}\"))\n",
    "\n",
    "display(\n",
    "    Math(\n",
    "        rf\"\\overline{{c_1}}\\cdot\\overline{{c_2}}=\\overline{{c_1\\cdot c_2}}\"\n",
    "        rf\"\\;?\\;\\rightarrow\\;{np.isclose(t1, t2)}\"\n",
    "    )\n",
    ")"
   ]
  },
  {
   "cell_type": "code",
   "execution_count": null,
   "id": "4aa64808-8146-4318-b623-2b85444c8b2e",
   "metadata": {},
   "outputs": [],
   "source": [
    "# Cell 5 - complex multiplication is angular rotation\n",
    "\n",
    "theta1 = np.radians(67.5)  # 3/8 Pi\n",
    "theta2 = np.radians(22.5)  # 1/8 pi\n",
    "\n",
    "display(Math(rf\"\\theta_1={np.round(theta1, 8)}\"))\n",
    "display(Math(rf\"\\theta_2={np.round(theta2, 8)}\"))\n",
    "\n",
    "t1 = np.exp(complex(0, theta1 + theta2))\n",
    "t2 = np.exp(complex(0, theta1)) * np.exp(complex(0, theta2))\n",
    "\n",
    "# Notice round-off on both of these calculations\n",
    "display(Math(rf\"e^{{i(\\theta_1+\\theta_2)}}={t1}\"))\n",
    "display(Math(rf\"(e^{{i\\theta_1}})(e^{{i\\theta_2}})={t2}\"))\n",
    "\n",
    "# It is safer to test for equality using np.isclose()\n",
    "display(\n",
    "    Math(\n",
    "        rf\"e^{{i(\\theta_1+\\theta_2)}}=(e^{{i\\theta_1}})(e^{{i\\theta_2}})\"\n",
    "        rf\"\\;?\\;\\rightarrow\\;{np.isclose(t1, t2)}\"\n",
    "    )\n",
    ")"
   ]
  },
  {
   "cell_type": "code",
   "execution_count": null,
   "id": "4231406f-306b-4348-89d1-e63e92c0362c",
   "metadata": {
    "tags": []
   },
   "outputs": [],
   "source": [
    "# Cell 6 - roots of unity\n",
    "\n",
    "c = complex(1, 0)\n",
    "n = 5\n",
    "t1 = np.power(c, 1 / n)\n",
    "\n",
    "display(Math(f\"c={c}\"))\n",
    "display(Math(rf\"c^{{1/{n}}}=\\sqrt[{n}]{{{c}}}={t1}\"))\n",
    "\n",
    "for k in range(n):\n",
    "    t2 = np.power(abs(c), 1 / n) * np.exp(complex(0, (np.angle(c) + 2 * np.pi * k) / n))\n",
    "    display(Math(rf\"{np.round(t2, 5)}^{n}={np.round(np.power(t2, n), 5)}\"))"
   ]
  }
 ],
 "metadata": {
  "interpreter": {
   "hash": "4431dc44d4f2686070e0fc53d953ad3cc7928e817d4e69983712ddc54c23870a"
  },
  "kernelspec": {
   "display_name": "Python 3 (ipykernel)",
   "language": "python",
   "name": "python3"
  },
  "language_info": {
   "codemirror_mode": {
    "name": "ipython",
    "version": 3
   },
   "file_extension": ".py",
   "mimetype": "text/x-python",
   "name": "python",
   "nbconvert_exporter": "python",
   "pygments_lexer": "ipython3",
   "version": "3.12.3"
  }
 },
 "nbformat": 4,
 "nbformat_minor": 5
}
