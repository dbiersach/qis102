{
 "cells": [
  {
   "cell_type": "code",
   "execution_count": null,
   "id": "711caeff-3aef-4455-9d5c-2ee557477e6d",
   "metadata": {
    "tags": []
   },
   "outputs": [],
   "source": [
    "# complex_numbers.ipynb\n",
    "\n",
    "# Cell 1 - Display three complex numbers\n",
    "\n",
    "import numpy as np\n",
    "from IPython.core.display import Math\n",
    "\n",
    "z1 = complex(-5.9, -7.5)\n",
    "z2 = complex(np.sqrt(2), np.pi)\n",
    "z3 = 7 - 2j\n",
    "\n",
    "display(Math(f\"z_1={z1}\"))\n",
    "display(Math(f\"z_2={z2}\"))\n",
    "display(Math(f\"z_3={z3}\"))"
   ]
  },
  {
   "cell_type": "code",
   "execution_count": null,
   "id": "1dfbe51c-4c4d-434a-a71e-07fa77519f70",
   "metadata": {
    "tags": []
   },
   "outputs": [],
   "source": [
    "# Cell 2 - Display complex number arithmetic\n",
    "\n",
    "display(Math(f\"z_1+z_2={z1 + z2:.4f}\"))\n",
    "display(Math(f\"z_1-z_2={z1 - z2:.4f}\"))\n",
    "display(Math(f\"z_1*z_2={z1 * z2:.4f}\"))\n",
    "\n",
    "display(Math(rf\"\\frac{{z_1}}{{z_2}}={z1 / z2:.4f}\"))"
   ]
  },
  {
   "cell_type": "code",
   "execution_count": null,
   "id": "021bcea4-cd84-43b4-a1f2-a0230eaa57c2",
   "metadata": {
    "tags": []
   },
   "outputs": [],
   "source": [
    "# Cell 3 - Display z1 cubed\n",
    "\n",
    "display(Math(f\"z_1^3={np.power(z1, 3):.4f}\"))"
   ]
  },
  {
   "cell_type": "code",
   "execution_count": null,
   "id": "60477f02-94cd-4b30-a372-de692f7f9dff",
   "metadata": {
    "tags": []
   },
   "outputs": [],
   "source": [
    "# Cell 4 - Display the conjugate of z2\n",
    "\n",
    "display(Math(rf\"\\overline{{z_2}}={np.conjugate(z2):.4f}\"))"
   ]
  },
  {
   "cell_type": "code",
   "execution_count": null,
   "id": "975f49e4-283c-468a-9f85-403c43b43007",
   "metadata": {
    "tags": []
   },
   "outputs": [],
   "source": [
    "# Cell 5 - Display the modulus of z3\n",
    "\n",
    "display(Math(rf\"\\vert z_3\\rvert={np.absolute(z3):.4f}\"))"
   ]
  },
  {
   "cell_type": "code",
   "execution_count": null,
   "id": "bbd28422-da59-401e-be10-9fd30a97ef7d",
   "metadata": {
    "tags": []
   },
   "outputs": [],
   "source": [
    "# Cell 6 - Print phase of z1\n",
    "\n",
    "display(Math(rf\"Arg\\;z_1=\\theta={np.angle(z1):.4f}\"))"
   ]
  }
 ],
 "metadata": {
  "kernelspec": {
   "display_name": "Python 3 (ipykernel)",
   "language": "python",
   "name": "python3"
  },
  "language_info": {
   "codemirror_mode": {
    "name": "ipython",
    "version": 3
   },
   "file_extension": ".py",
   "mimetype": "text/x-python",
   "name": "python",
   "nbconvert_exporter": "python",
   "pygments_lexer": "ipython3",
   "version": "3.12.3"
  },
  "vscode": {
   "interpreter": {
    "hash": "4431dc44d4f2686070e0fc53d953ad3cc7928e817d4e69983712ddc54c23870a"
   }
  }
 },
 "nbformat": 4,
 "nbformat_minor": 5
}
