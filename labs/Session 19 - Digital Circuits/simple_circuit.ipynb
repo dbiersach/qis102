{
 "cells": [
  {
   "cell_type": "code",
   "execution_count": null,
   "id": "278d9f63-d964-4b20-a3a3-0125c8e30505",
   "metadata": {
    "tags": []
   },
   "outputs": [],
   "source": [
    "# simple_circuit.ipynb\n",
    "\n",
    "# Cell 1 - Define common Boolean states and gates\n",
    "\n",
    "import numpy as np\n",
    "from qis102_utils import as_latex\n",
    "\n",
    "f = np.array([[1], [0]])\n",
    "t = np.array([[0], [1]])\n",
    "\n",
    "g_not = np.array([[0, 1], [1, 0]])\n",
    "g_and = np.array([[1, 1, 1, 0], [0, 0, 0, 1]])\n",
    "g_or = np.array([[1, 0, 0, 0], [0, 1, 1, 1]])\n",
    "\n",
    "display(as_latex(f, prefix=r\"\\mathbf{F}=0=\"))\n",
    "display(as_latex(t, prefix=r\"\\mathbf{T}=1=\"))\n",
    "\n",
    "display(as_latex(g_not, prefix=r\"\\mathbf{NOT}=\"))\n",
    "display(as_latex(g_and, prefix=r\"\\mathbf{AND}=\"))\n",
    "display(as_latex(g_or, prefix=r\"\\mathbf{OR}=\"))"
   ]
  },
  {
   "cell_type": "code",
   "execution_count": null,
   "id": "f4a04d5b-7548-426c-9346-d63d14b2b4cd",
   "metadata": {
    "tags": []
   },
   "outputs": [],
   "source": [
    "# Cell 2 - Implement Boolean circuit using matrix algebra\n",
    "\n",
    "\n",
    "def circuit(a, b, c, d):\n",
    "    g1 = np.dot(g_and, np.kron(a, b))\n",
    "    g2 = np.dot(g_not, c)\n",
    "    g3 = np.dot(g_or, np.kron(g1, g2))\n",
    "    g4 = np.dot(g_and, np.kron(g3, d))\n",
    "    g5 = np.dot(g_not, g4)\n",
    "    return g5\n",
    "\n",
    "\n",
    "# Create truth table for three inputs and show the output\n",
    "for a in [f, t]:\n",
    "    for b in [f, t]:\n",
    "        for c in [f, t]:\n",
    "            for d in [f, t]:\n",
    "                print(f\"a: [{a[0][0]} {a[1][0]}]\", end=\"  \")\n",
    "                print(f\"b: [{b[0][0]} {b[1][0]}]\", end=\"  \")\n",
    "                print(f\"c: [{c[0][0]} {c[1][0]}]\", end=\"  \")\n",
    "                print(f\"d: [{d[0][0]} {d[1][0]}]\", end=\"  \")\n",
    "                v = circuit(a, b, c, d)\n",
    "                print(f\"v: [{v[0][0]} {v[1][0]}]\")"
   ]
  }
 ],
 "metadata": {
  "kernelspec": {
   "display_name": "Python 3 (ipykernel)",
   "language": "python",
   "name": "python3"
  },
  "language_info": {
   "codemirror_mode": {
    "name": "ipython",
    "version": 3
   },
   "file_extension": ".py",
   "mimetype": "text/x-python",
   "name": "python",
   "nbconvert_exporter": "python",
   "pygments_lexer": "ipython3",
   "version": "3.12.3"
  }
 },
 "nbformat": 4,
 "nbformat_minor": 5
}
