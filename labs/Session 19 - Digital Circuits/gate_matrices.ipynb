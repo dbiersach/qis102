{
 "cells": [
  {
   "cell_type": "code",
   "execution_count": null,
   "id": "1e1f441b-cb85-4a1a-8826-203593585f5d",
   "metadata": {
    "tags": []
   },
   "outputs": [],
   "source": [
    "# gate_matrices.ipynb\n",
    "\n",
    "# Cell 1 - True & False as vectors\n",
    "\n",
    "import numpy as np\n",
    "from IPython.core.display import Math\n",
    "from qis102_utils import as_latex\n",
    "\n",
    "f = np.array([[1], [0]])\n",
    "t = np.array([[0], [1]])\n",
    "\n",
    "display(as_latex(f, prefix=r\"\\mathbf{F}=0=\"))\n",
    "display(as_latex(t, prefix=r\"\\mathbf{T}=1=\"))"
   ]
  },
  {
   "cell_type": "code",
   "execution_count": null,
   "id": "91d1bb82-cae6-4b12-9678-c3a098d044bd",
   "metadata": {
    "tags": []
   },
   "outputs": [],
   "source": [
    "# Cell 2 - Single Input NOT Gate as a Matrix\n",
    "\n",
    "g_not = np.array([[0, 1], [1, 0]])\n",
    "\n",
    "not_t = np.dot(g_not, t)\n",
    "not_f = np.dot(g_not, f)\n",
    "\n",
    "display(as_latex(g_not, prefix=r\"\\mathbf{NOT}=\"))\n",
    "\n",
    "# NOT False = True\n",
    "display(as_latex(not_f, prefix=r\"\\mathbf{NOT\\;False}=\"))\n",
    "display(as_latex(t, prefix=r\"\\mathbf{T}=\"))\n",
    "display(\n",
    "    Math(\n",
    "        rf\"\\mathbf{{NOT\\;False}}=\\mathbf{{True}}\\;?\\;\"\n",
    "        rf\"\\rightarrow\\;{np.isclose(not_f,t).all()}\"\n",
    "    )\n",
    ")\n",
    "\n",
    "# NOT True = False\n",
    "display(as_latex(not_t, prefix=r\"\\mathbf{NOT\\;True}=\"))\n",
    "display(as_latex(f, prefix=r\"\\mathbf{F}=\"))\n",
    "display(\n",
    "    Math(\n",
    "        rf\"\\mathbf{{NOT\\;True}}=\\mathbf{{False}}\\;?\\;\"\n",
    "        rf\"\\rightarrow\\;{np.isclose(not_t,f).all()}\"\n",
    "    )\n",
    ")"
   ]
  },
  {
   "cell_type": "code",
   "execution_count": null,
   "id": "9c310310-7502-4489-baca-15c68a0c10db",
   "metadata": {
    "tags": []
   },
   "outputs": [],
   "source": [
    "# Cell 3 - Tensor (Kronecker) Product\n",
    "\n",
    "f_f = np.kron(f, f)\n",
    "f_t = np.kron(f, t)\n",
    "t_f = np.kron(t, f)\n",
    "t_t = np.kron(t, t)\n",
    "\n",
    "display(as_latex(f_f, prefix=r\"\\mathbf{F\\;F}=(0,0)=0=\"))\n",
    "display(as_latex(f_t, prefix=r\"\\mathbf{F\\;T}=(0,1)=1=\"))\n",
    "display(as_latex(t_f, prefix=r\"\\mathbf{T\\;F}=(1,0)=2=\"))\n",
    "display(as_latex(t_t, prefix=r\"\\mathbf{T\\;T}=(1,1)=3=\"))"
   ]
  },
  {
   "cell_type": "code",
   "execution_count": null,
   "id": "a598c29f-8469-4c8b-8c95-eb048308aeb6",
   "metadata": {
    "tags": []
   },
   "outputs": [],
   "source": [
    "# Cell 4 - Two input AND gate as a Matrix\n",
    "\n",
    "g_and = np.array([[1, 1, 1, 0], [0, 0, 0, 1]])\n",
    "\n",
    "and_f_f = np.dot(g_and, f_f)\n",
    "and_f_t = np.dot(g_and, f_t)\n",
    "and_t_f = np.dot(g_and, t_f)\n",
    "and_t_t = np.dot(g_and, t_t)\n",
    "\n",
    "display(as_latex(g_and, prefix=r\"\\mathbf{AND}=\"))\n",
    "\n",
    "display(as_latex(and_f_f, prefix=r\"\\mathbf{AND\\;(F\\;F)=(F)}=\"))\n",
    "display(as_latex(and_f_t, prefix=r\"\\mathbf{AND\\;(F\\;T)=(F)}=\"))\n",
    "display(as_latex(and_t_f, prefix=r\"\\mathbf{AND\\;(T\\;F)=(F)}=\"))\n",
    "display(as_latex(and_t_t, prefix=r\"\\mathbf{AND\\;(T\\;T)=(T)}=\"))"
   ]
  },
  {
   "cell_type": "code",
   "execution_count": null,
   "id": "79be83aa-bcda-4420-b112-2d3b39052dc4",
   "metadata": {
    "tags": []
   },
   "outputs": [],
   "source": [
    "# Cell 5 - Two input OR gate as a Matrix\n",
    "\n",
    "g_or = np.array([[1, 0, 0, 0], [0, 1, 1, 1]])\n",
    "\n",
    "or_f_f = np.dot(g_or, f_f)\n",
    "or_f_t = np.dot(g_or, f_t)\n",
    "or_t_f = np.dot(g_or, t_f)\n",
    "or_t_t = np.dot(g_or, t_t)\n",
    "\n",
    "display(as_latex(g_or, prefix=r\"\\mathbf{OR}=\"))\n",
    "\n",
    "display(as_latex(or_f_f, prefix=r\"\\mathbf{OR\\;(F\\;F)=(F)}=\"))\n",
    "display(as_latex(or_f_t, prefix=r\"\\mathbf{OR\\;(F\\;T)=(T)}=\"))\n",
    "display(as_latex(or_t_f, prefix=r\"\\mathbf{OR\\;(T\\;F)=(T)}=\"))\n",
    "display(as_latex(or_t_t, prefix=r\"\\mathbf{OR\\;(T\\;T)=(T)}=\"))"
   ]
  },
  {
   "cell_type": "code",
   "execution_count": null,
   "id": "49c9d14d-a72b-4402-beab-a9e36be8ad7c",
   "metadata": {
    "tags": []
   },
   "outputs": [],
   "source": [
    "# Cell 6 - Compound Boolean Gates\n",
    "\n",
    "g_nand = np.dot(g_not, g_and)\n",
    "g_nor = np.dot(g_not, g_or)\n",
    "\n",
    "nand_f_f = np.dot(g_nand, f_f)\n",
    "nor_f_t = np.dot(g_nor, f_t)\n",
    "\n",
    "display(as_latex(g_nand, prefix=r\"\\mathbf{NAND}=\"))\n",
    "display(as_latex(g_nor, prefix=r\"\\mathbf{NOR}=\"))\n",
    "\n",
    "display(as_latex(nand_f_f, prefix=r\"\\mathbf{NAND\\;(F\\;F)=(T)}=\"))\n",
    "display(as_latex(nor_f_t, prefix=r\"\\mathbf{NOR\\;(F\\;T)=(F)}=\"))"
   ]
  }
 ],
 "metadata": {
  "kernelspec": {
   "display_name": "Python 3 (ipykernel)",
   "language": "python",
   "name": "python3"
  },
  "language_info": {
   "codemirror_mode": {
    "name": "ipython",
    "version": 3
   },
   "file_extension": ".py",
   "mimetype": "text/x-python",
   "name": "python",
   "nbconvert_exporter": "python",
   "pygments_lexer": "ipython3",
   "version": "3.12.3"
  }
 },
 "nbformat": 4,
 "nbformat_minor": 5
}
