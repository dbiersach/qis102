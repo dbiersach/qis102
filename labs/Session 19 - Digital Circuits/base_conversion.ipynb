{
 "cells": [
  {
   "cell_type": "code",
   "execution_count": null,
   "id": "3d42bab9-2525-4c19-bf23-2c756a826c31",
   "metadata": {},
   "outputs": [],
   "source": [
    "# base_conversion.ipynb\n",
    "\n",
    "# Cell 1 - Binary to Decimal\n",
    "\n",
    "import numpy as np\n",
    "\n",
    "\n",
    "def binary_to_decimal(b_str):\n",
    "    # Reverse string 'b' because the\n",
    "    # LSB must be in first position\n",
    "    b_str = b_str[::-1]\n",
    "    sum = 0\n",
    "    for position in range(len(b_str)):\n",
    "        weight = pow(2, position)\n",
    "        digit = int(b_str[position])\n",
    "        sum += digit * weight\n",
    "    return sum\n",
    "\n",
    "\n",
    "b_str = \"1011001\"\n",
    "d = binary_to_decimal(b_str)\n",
    "print(f\"{b_str} in binary = {d:,} in decimal\")"
   ]
  },
  {
   "cell_type": "code",
   "execution_count": null,
   "id": "c42f7074-cc21-4168-8f7e-3ef246a7a764",
   "metadata": {},
   "outputs": [],
   "source": [
    "# Cell 2 - Decimal to Binary\n",
    "\n",
    "\n",
    "def decimal_to_binary(d):\n",
    "    b_str = \"\"\n",
    "    while d > 0:\n",
    "        b_str += str(d % 2)\n",
    "        d = int(d / 2)\n",
    "    # Reverse string 'b' because the\n",
    "    # LSB must be in first position\n",
    "    b_str = b_str[::-1]\n",
    "    return b_str\n",
    "\n",
    "\n",
    "d = 113\n",
    "b_str = decimal_to_binary(d)\n",
    "print(f\"{d:,} in decimal = {b_str} in binary\")"
   ]
  },
  {
   "cell_type": "code",
   "execution_count": null,
   "id": "1a2de740-43d3-4f49-8707-2ea6145aefc1",
   "metadata": {},
   "outputs": [],
   "source": [
    "# Cell 3 - Calling built-in functions for base conversion\n",
    "\n",
    "# Better to call the built-in integer constructor\n",
    "b_str = \"1011001\"\n",
    "d = int(b_str, 2)\n",
    "print(f\"{b_str} in binary = {d:,} in decimal\")\n",
    "\n",
    "# Better to call numpy's built-in base converter\n",
    "d = 113\n",
    "b_str = np.base_repr(d, base=2)\n",
    "print(f\"{d:,} in decimal = {b_str} in binary\")"
   ]
  }
 ],
 "metadata": {
  "kernelspec": {
   "display_name": "Python 3 (ipykernel)",
   "language": "python",
   "name": "python3"
  },
  "language_info": {
   "codemirror_mode": {
    "name": "ipython",
    "version": 3
   },
   "file_extension": ".py",
   "mimetype": "text/x-python",
   "name": "python",
   "nbconvert_exporter": "python",
   "pygments_lexer": "ipython3",
   "version": "3.12.3"
  }
 },
 "nbformat": 4,
 "nbformat_minor": 5
}
