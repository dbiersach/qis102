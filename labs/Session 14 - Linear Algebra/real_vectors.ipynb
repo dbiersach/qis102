{
 "cells": [
  {
   "cell_type": "code",
   "execution_count": null,
   "id": "c4039191-bcff-4b01-93cb-f85f6f6e8995",
   "metadata": {
    "tags": []
   },
   "outputs": [],
   "source": [
    "# real_vectors.ipynb\n",
    "\n",
    "# Cell 1 - Create a vector\n",
    "\n",
    "import numpy as np\n",
    "from qis102_utils import as_latex\n",
    "\n",
    "\n",
    "def print_ndarray_info(name, a):\n",
    "    print(f\"Type of {name} is {type(a).__name__}\")\n",
    "    print(f\"Number of dimensions of {name} = {a.ndim}\")\n",
    "    print(f\"Shape of dimensions of {name} = {a.shape}\")\n",
    "    print(f\"Length of {name} = {len(a)}\")\n",
    "    print(f\"Size of {name} = {a.size}\")\n",
    "\n",
    "\n",
    "theta1 = 1 / 4 * np.pi\n",
    "theta2 = 3 / 4 * np.pi\n",
    "\n",
    "# Create a Numpy single dimension (1D) array, aka a \"vector\"\n",
    "v = np.array([np.cos(theta1), np.sin(theta1)])\n",
    "\n",
    "print_ndarray_info(\"v\", v)\n",
    "\n",
    "display(as_latex(v, prefix=r\"\\mathbf{v}=\"))"
   ]
  },
  {
   "cell_type": "code",
   "execution_count": null,
   "id": "61c5e5af-0340-4863-ae32-a16f58b12713",
   "metadata": {
    "tags": []
   },
   "outputs": [],
   "source": [
    "# Cell 2 - Create another vector\n",
    "\n",
    "w = np.array([np.cos(theta2), np.sin(theta2)])\n",
    "\n",
    "print_ndarray_info(\"w\", w)\n",
    "\n",
    "display(as_latex(v, prefix=r\"\\mathbf{w}=\"))"
   ]
  },
  {
   "cell_type": "code",
   "execution_count": null,
   "id": "fbe91520-3b43-4723-863c-a32a466880f5",
   "metadata": {
    "tags": []
   },
   "outputs": [],
   "source": [
    "# Cell 3 - Print the norm (aka magnitude, modulus) of both vectors\n",
    "from IPython.core.display import Math\n",
    "\n",
    "display(Math(rf\"\\|\\mathbf{{v}}\\|={np.linalg.norm(v)}\"))\n",
    "display(Math(rf\"\\|\\mathbf{{w}}\\|={np.linalg.norm(w)}\"))"
   ]
  },
  {
   "cell_type": "code",
   "execution_count": null,
   "id": "b2662b15-f6e7-41bb-b285-02e78f384640",
   "metadata": {
    "tags": []
   },
   "outputs": [],
   "source": [
    "# Cell 4 - Print the dot product of vectors v and w\n",
    "\n",
    "v_dot_w = np.dot(v, w)\n",
    "\n",
    "# Note: There is round-off error\n",
    "display(Math(rf\"\\mathbf{{v\\cdot w}}=\\color{{red}}{{{v_dot_w}}}\"))\n",
    "\n",
    "# We can use np.round(_, #) to round _ to a specified # of decimals\n",
    "display(Math(rf\"\\mathbf{{v\\cdot w}}={np.round(v_dot_w, 5)}\"))\n",
    "\n",
    "theta = np.degrees(np.arccos(np.dot(v, w) / (np.linalg.norm(v) * np.linalg.norm(w))))\n",
    "display(Math(rf\"\\theta={theta}^\\circ\"))"
   ]
  },
  {
   "cell_type": "code",
   "execution_count": null,
   "id": "a3dbc5a4-091e-4220-9e89-63c6e2e7344c",
   "metadata": {
    "tags": []
   },
   "outputs": [],
   "source": [
    "# Cell 5 - Display the Cartesian basis vectors (orthonormal)\n",
    "\n",
    "i = np.array([1, 0, 0])\n",
    "j = np.array([0, 1, 0])\n",
    "k = np.array([0, 0, 1])\n",
    "\n",
    "display(as_latex(i, prefix=r\"\\mathbf{\\hat{i}}=\"))\n",
    "display(as_latex(j, prefix=r\"\\mathbf{\\hat{j}}=\"))\n",
    "display(as_latex(k, prefix=r\"\\mathbf{\\hat{k}}=\"))"
   ]
  },
  {
   "cell_type": "code",
   "execution_count": null,
   "id": "77d858b5-c020-4101-a93c-89964e4ccbb0",
   "metadata": {
    "tags": []
   },
   "outputs": [],
   "source": [
    "# Cell 6 - Extract the individual components of a vector\n",
    "# by using the inner products of its basis vectors\n",
    "\n",
    "v = np.array([2, 3, 5])\n",
    "\n",
    "display(as_latex(v, prefix=r\"\\mathbf{v}=\"))\n",
    "\n",
    "display(Math(rf\"\\mathbf{{v}}\\cdot\\mathbf{{\\hat{{i}}}}={np.dot(v, i)}\"))\n",
    "display(Math(rf\"\\mathbf{{v}}\\cdot\\mathbf{{\\hat{{j}}}}={np.dot(v, j)}\"))\n",
    "display(Math(rf\"\\mathbf{{v}}\\cdot\\mathbf{{\\hat{{k}}}}={np.dot(v, k)}\"))"
   ]
  }
 ],
 "metadata": {
  "kernelspec": {
   "display_name": "Python 3 (ipykernel)",
   "language": "python",
   "name": "python3"
  },
  "language_info": {
   "codemirror_mode": {
    "name": "ipython",
    "version": 3
   },
   "file_extension": ".py",
   "mimetype": "text/x-python",
   "name": "python",
   "nbconvert_exporter": "python",
   "pygments_lexer": "ipython3",
   "version": "3.12.3"
  }
 },
 "nbformat": 4,
 "nbformat_minor": 5
}
